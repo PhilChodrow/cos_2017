{
 "cells": [
  {
   "cell_type": "markdown",
   "metadata": {
    "slideshow": {
     "slide_type": "slide"
    }
   },
   "source": [
    "# Introduction to Julia and IJulia/Jupyter\n",
    "<table>\n",
    "<tr>\n",
    "<td> <a href=\"http://julialang.org\"><img src=\"src/figures/julia.png\" alt=\"Julia\" style=\"width: 150px;\"/></a></td>\n",
    "<td> <a href=\"http://jupyter.org\"><img src=\"src/figures/jupyter.png\" alt=\"Jupyter\" style=\"width: 150px;\"/></a></td>\n",
    "<td> <a href=\"https://github.com/JuliaLang/IJulia.jl\"><img src=\"src/figures/ijulia.png\" alt=\"IJulia\" style=\"width: 150px;\"/></a></td>\n",
    "</tr></table>"
   ]
  },
  {
   "cell_type": "markdown",
   "metadata": {
    "slideshow": {
     "slide_type": "skip"
    }
   },
   "source": [
    "This notebook is an introduction to the language **Julia**, and the use of the IJulia/Jupyter notebook in a statistics/optimization workflow. It is meant to be presented in 1 hour. It was created to be runned with Julia 0.5.\n",
    "\n",
    "The Julia language will be introduced quickly, the aim is to motivate the readers to learn the language by themselves using more thorough teaching material."
   ]
  },
  {
   "cell_type": "markdown",
   "metadata": {
    "slideshow": {
     "slide_type": "slide"
    }
   },
   "source": [
    "## Why using Julia?\n",
    "We introduce in this section **Julia**, a fast programming language that is particularly good at scientific computing.\n",
    "<a href=\"http://julialang.org\"><img src=\"src/figures/julia.png\" alt=\"Julia\" style=\"width: 150px;\"/></a>"
   ]
  },
  {
   "cell_type": "markdown",
   "metadata": {
    "slideshow": {
     "slide_type": "subslide"
    }
   },
   "source": [
    "Quoting the [Julia website](http://julialang.org):\n",
    "> Julia is a **high-level**, **high-performance** **dynamic** programming language for **technical computing**, with syntax that is familiar to users of other technical computing environments. It provides a sophisticated compiler, distributed parallel execution, numerical accuracy, and an extensive mathematical function library."
   ]
  },
  {
   "cell_type": "markdown",
   "metadata": {
    "slideshow": {
     "slide_type": "slide"
    }
   },
   "source": [
    "**High-level** language\n",
    "\n",
    "- The syntax is easy to use and learn. \n",
    "- It will seem familiar to Python and Matlab users. \n",
    "- It is possible to do complicated computations quickly."
   ]
  },
  {
   "cell_type": "markdown",
   "metadata": {
    "slideshow": {
     "slide_type": "subslide"
    }
   },
   "source": [
    "For example, Solving $Ax = b$ with \n",
    "$A = \\begin{pmatrix}\n",
    " 1 & 2 & 3\\\\ \n",
    " 2 & 1 & 2\\\\ \n",
    " 3 & 2 & 1\n",
    "\\end{pmatrix}$\n",
    "and $b = \\begin{pmatrix}\n",
    " 1 \\\\ \n",
    " 1 \\\\ \n",
    " 1 \n",
    "\\end{pmatrix}$\n",
    "is as simple as:"
   ]
  },
  {
   "cell_type": "code",
   "execution_count": 1,
   "metadata": {
    "collapsed": false,
    "slideshow": {
     "slide_type": "fragment"
    }
   },
   "outputs": [
    {
     "data": {
      "text/plain": [
       "3-element Array{Float64,1}:\n",
       "  0.25\n",
       " -0.0 \n",
       "  0.25"
      ]
     },
     "execution_count": 1,
     "metadata": {},
     "output_type": "execute_result"
    }
   ],
   "source": [
    "A = [1 2 3\n",
    "     2 1 2\n",
    "     3 2 1]\n",
    "\n",
    "b = [1,1,1]\n",
    "A\\b"
   ]
  },
  {
   "cell_type": "markdown",
   "metadata": {
    "slideshow": {
     "slide_type": "slide"
    }
   },
   "source": [
    "A **dynamic** language:\n",
    "\n",
    "- Julia is, like Python, Matlab or R, a dynamic language: you can interact with the language without the need to compile your code. Static or compiled languages, like C or Fortran, are more complicated to use but generally faster, and thus used when there is a need for time-efficient computations. \n",
    "\n",
    "- This is the _two-languages problem_: one generally use a high level language for research and scripting, and then translate the final result in a static language for performance."
   ]
  },
  {
   "cell_type": "markdown",
   "metadata": {
    "slideshow": {
     "slide_type": "slide"
    }
   },
   "source": [
    "A **High Performance** language:\n",
    "- Julia solves the two languages problem using **just-in-time compilation**. While running, your code will be automatically compiled and optimized to reach performances comparable to static languages like C, Fortran and Go.\n",
    "- Unlike R, Matlab or Python, simple loops are extremely efficient in Julia:"
   ]
  },
  {
   "cell_type": "code",
   "execution_count": 2,
   "metadata": {
    "collapsed": false,
    "slideshow": {
     "slide_type": "subslide"
    }
   },
   "outputs": [
    {
     "name": "stdout",
     "output_type": "stream",
     "text": [
      "First use: slow like a dynamic language\n",
      "  0.006574 seconds (1.52 k allocations: 72.265 KB)\n",
      "Second use: compiled and optimized automatically\n",
      "  0.000001 seconds (5 allocations: 176 bytes)\n"
     ]
    }
   ],
   "source": [
    "function countTo(n)\n",
    "    count = 0\n",
    "    for i = 1:n\n",
    "        count += 1\n",
    "    end\n",
    "    return count\n",
    "end\n",
    "println(\"First use: slow like a dynamic language\")\n",
    "@time countTo(10_000_000)\n",
    "println(\"Second use: compiled and optimized automatically\")\n",
    "@time countTo(10_000_000);"
   ]
  },
  {
   "cell_type": "markdown",
   "metadata": {
    "slideshow": {
     "slide_type": "slide"
    }
   },
   "source": [
    "A language for **technical computing**\n",
    "- Julia has a lot of built in functions for scientific computing.\n",
    "- A growing number of packages, mostly written in Julia itself.\n",
    "- More and more users in Finance, Biology, Optimization.\n",
    "- Can run C and Python code seemlessly (using Scikit for Machine Learning...)\n"
   ]
  },
  {
   "cell_type": "markdown",
   "metadata": {
    "slideshow": {
     "slide_type": "slide"
    }
   },
   "source": [
    "## Jupyter/IJulia notebook basics\n",
    "We present, install and use the Jupyter notebooks, a formidable tool made available to Julia by the IJulia project."
   ]
  },
  {
   "cell_type": "markdown",
   "metadata": {
    "slideshow": {
     "slide_type": "slide"
    }
   },
   "source": [
    "### What is a Jupyter Notebook?\n",
    "- Jupyter notebooks are **documents** (a little like a Word document) that can contain and run code.\n",
    "- They were originally created for Python in the IPython projects, and adapted to Julia by the **IJulia** project.\n",
    "- They are very useful to **prototype**, draw **plots**, or even for teaching material like this one.\n",
    "- The document relies only on a modern browser for rendering, and can easily be **shared**."
   ]
  },
  {
   "cell_type": "markdown",
   "metadata": {
    "slideshow": {
     "slide_type": "slide"
    }
   },
   "source": [
    "### Installing IJulia and loading this notebook\n",
    "Once Julia is installed, start julia and just run the following command to install the `IJulia` package\n",
    "```jl\n",
    "Pkg.install(\"IJulia\")\n",
    "```\n",
    "This should work on its own. If there is any issue, check out the [IJulia website](https://github.com/JuliaLang/IJulia.jl).\n",
    "\n",
    "Once IJulia is installed, go to the notebook file (_.ipynb_) directory, start julia and run:\n",
    "```jl\n",
    "using IJulia\n",
    "notebook()\n",
    "```\n",
    "A webpage should open automatically, just click on the notebook to load it."
   ]
  },
  {
   "cell_type": "markdown",
   "metadata": {
    "slideshow": {
     "slide_type": "slide"
    }
   },
   "source": [
    "### Navigating the notebook\n",
    "\n",
    "- Click `Help -> User Interface Tour` for a guided tour of the interface.\n",
    "- Each notebook is composed of **cells**, that either contain code or text (`Markdown`).\n",
    "- You can edit the content of a cell by double-clicking on it (_Edit Mode_)."
   ]
  },
  {
   "cell_type": "markdown",
   "metadata": {
    "slideshow": {
     "slide_type": "slide"
    }
   },
   "source": [
    "When you are not editing a cell, you are in _Command mode_ and can edit the structure of the notebook (cells, name, options...)"
   ]
  },
  {
   "cell_type": "markdown",
   "metadata": {
    "slideshow": {
     "slide_type": "subslide"
    }
   },
   "source": [
    "- Create a cell by:\n",
    "    - Clicking `Insert -> Insert Cell`\n",
    "    - Pressing `a` or `b` in Command Mode\n",
    "    - Pressing `Alt+Enter` in Edit Mode"
   ]
  },
  {
   "cell_type": "markdown",
   "metadata": {
    "slideshow": {
     "slide_type": "subslide"
    }
   },
   "source": [
    "- Delete a cell by:\n",
    "    - Clicking `Edit -> Delete Cell`\n",
    "    - Pressing `dd`"
   ]
  },
  {
   "cell_type": "markdown",
   "metadata": {
    "slideshow": {
     "slide_type": "subslide"
    }
   },
   "source": [
    "- Execute a cell by:\n",
    "    - Clicking `Cell -> Run`\n",
    "    - Pressing `Ctrl+Enter`"
   ]
  },
  {
   "cell_type": "markdown",
   "metadata": {
    "slideshow": {
     "slide_type": "subslide"
    }
   },
   "source": [
    "Other functions:\n",
    "- Undo last text edit with `Ctrl+z` in Edit Mode\n",
    "- Undo last cell manipulation with `z` in Command Mode\n",
    "- Save notebook with `Ctrl+s` in Edit Mode\n",
    "- Save notebook with `s` in Command Mode\n",
    "\n",
    "Though notebooks rely on your browser to work, they do not require an internet connection (except for math rendering).\n"
   ]
  },
  {
   "cell_type": "markdown",
   "metadata": {
    "slideshow": {
     "slide_type": "slide"
    }
   },
   "source": [
    "### Get comfortable with the notebook\n",
    "Notebooks are designed to not be fragile. If you try to close a notebook with unsaved changes, the browser will warn you.\n",
    "\n",
    "Try the following exercises:"
   ]
  },
  {
   "cell_type": "markdown",
   "metadata": {
    "slideshow": {
     "slide_type": "subslide"
    }
   },
   "source": [
    ">**\\[Exercise\\]**: Close/open\n",
    "\n",
    ">1. Save the notebook\n",
    ">2. Copy the address\n",
    ">3. Close the tab\n",
    ">4. Paste the address into a new tab (or re-open the last closed tab with `Ctrl+Shift+T` on Chrome)\n",
    "\n",
    ">_The document is still there, and the Julia kernel is still alive! Nothing is lost._"
   ]
  },
  {
   "cell_type": "markdown",
   "metadata": {
    "slideshow": {
     "slide_type": "subslide"
    }
   },
   "source": [
    ">**\\[Exercise\\]**: Zoom\n",
    "\n",
    ">Try changing the magnification of the web page (`Ctrl+, Ctrl-` on Chrome).\n",
    "\n",
    ">_Text and math scale well (so do graphics if you use an SVG or PDF backend)._"
   ]
  },
  {
   "cell_type": "markdown",
   "metadata": {
    "slideshow": {
     "slide_type": "subslide"
    }
   },
   "source": [
    ">**\\[Exercise\\]**: MathJax\n",
    ">1. Create a new cell, and select the type `Markdown` (or press `m`)\n",
    ">2. Type an opening \\$, your favorite mathematical expression, and a closing \\$.\n",
    ">3. Run the cell to render the $\\LaTeX$ expression.\n",
    ">4. Right-click the rendered expression."
   ]
  },
  {
   "cell_type": "markdown",
   "metadata": {
    "slideshow": {
     "slide_type": "slide"
    }
   },
   "source": [
    "## Coding in Julia\n",
    "This section is a brief introduction to Julia. It is not a comprehensive tutorial but more a _taste_ of the language for those who do not know it, and a showcase of cool features for those who already know Julia.\n",
    "\n",
    "Very good [tutorials](http://julialang.org/learning/) are available online and in books if you are interested in learning the language."
   ]
  },
  {
   "cell_type": "markdown",
   "metadata": {
    "slideshow": {
     "slide_type": "slide"
    }
   },
   "source": [
    "### Basic use\n",
    "Julia, as a dynamic language, can simply be used as a calculator:"
   ]
  },
  {
   "cell_type": "code",
   "execution_count": 3,
   "metadata": {
    "collapsed": false,
    "slideshow": {
     "slide_type": "fragment"
    }
   },
   "outputs": [
    {
     "data": {
      "text/plain": [
       "2"
      ]
     },
     "execution_count": 3,
     "metadata": {},
     "output_type": "execute_result"
    }
   ],
   "source": [
    "1+1"
   ]
  },
  {
   "cell_type": "code",
   "execution_count": 4,
   "metadata": {
    "collapsed": false,
    "slideshow": {
     "slide_type": "subslide"
    }
   },
   "outputs": [
    {
     "data": {
      "text/plain": [
       "-0.01136232398070678"
      ]
     },
     "execution_count": 4,
     "metadata": {},
     "output_type": "execute_result"
    }
   ],
   "source": [
    "sin(exp(2*pi)+sqrt(3))"
   ]
  },
  {
   "cell_type": "markdown",
   "metadata": {
    "slideshow": {
     "slide_type": "slide"
    }
   },
   "source": [
    "The building blocs of Julia code are variables:"
   ]
  },
  {
   "cell_type": "code",
   "execution_count": 5,
   "metadata": {
    "collapsed": false,
    "slideshow": {
     "slide_type": "fragment"
    }
   },
   "outputs": [
    {
     "data": {
      "text/plain": [
       "9"
      ]
     },
     "execution_count": 5,
     "metadata": {},
     "output_type": "execute_result"
    }
   ],
   "source": [
    "a = 1\n",
    "b = 2\n",
    "# This is a comment \n",
    "c = a^2 + b^3 "
   ]
  },
  {
   "cell_type": "markdown",
   "metadata": {
    "slideshow": {
     "slide_type": "slide"
    }
   },
   "source": [
    "Julia supports the common `if`, `while` and `for` structures:"
   ]
  },
  {
   "cell_type": "code",
   "execution_count": 6,
   "metadata": {
    "collapsed": false,
    "slideshow": {
     "slide_type": "fragment"
    }
   },
   "outputs": [
    {
     "name": "stdout",
     "output_type": "stream",
     "text": [
      "Huchette"
     ]
    }
   ],
   "source": [
    "if c >= 10\n",
    "    print(\"Joey\")\n",
    "else\n",
    "    print(\"Huchette\")\n",
    "end"
   ]
  },
  {
   "cell_type": "code",
   "execution_count": 7,
   "metadata": {
    "collapsed": false,
    "slideshow": {
     "slide_type": "subslide"
    }
   },
   "outputs": [
    {
     "name": "stdout",
     "output_type": "stream",
     "text": [
      "Joey!\n",
      "Joey!\n",
      "Joey!\n",
      "Joey!\n",
      "Joey!\n"
     ]
    }
   ],
   "source": [
    "i = 1\n",
    "while i <= 5\n",
    "    println(\"Joey!\") # Print with a new line\n",
    "    i += 1\n",
    "end"
   ]
  },
  {
   "cell_type": "code",
   "execution_count": 8,
   "metadata": {
    "collapsed": false,
    "slideshow": {
     "slide_type": "subslide"
    }
   },
   "outputs": [
    {
     "name": "stdout",
     "output_type": "stream",
     "text": [
      "1 Joey\n",
      "2 Joeys\n",
      "3 Joeys\n"
     ]
    }
   ],
   "source": [
    "for i = 1:3\n",
    "    print(\"$i Joey\") # '$' can be used to insert variables into text\n",
    "    if i>1\n",
    "        print(\"s\")\n",
    "    end\n",
    "    println() # Just a new line\n",
    "end"
   ]
  },
  {
   "cell_type": "markdown",
   "metadata": {
    "slideshow": {
     "slide_type": "subslide"
    }
   },
   "source": [
    "**Do not worry about writing loops**: in Julia, they are as fast as writing vectorized code, and sometimes faster!"
   ]
  },
  {
   "cell_type": "markdown",
   "metadata": {
    "slideshow": {
     "slide_type": "slide"
    }
   },
   "source": [
    "**Arrays** (list of numbers) are at the core of research computing and Julia's arrays are extremely optimized."
   ]
  },
  {
   "cell_type": "code",
   "execution_count": 9,
   "metadata": {
    "collapsed": false,
    "slideshow": {
     "slide_type": "fragment"
    }
   },
   "outputs": [
    {
     "data": {
      "text/plain": [
       "3-element Array{Int64,1}:\n",
       " 1\n",
       " 2\n",
       " 3"
      ]
     },
     "execution_count": 9,
     "metadata": {},
     "output_type": "execute_result"
    }
   ],
   "source": [
    "myList = [1, 2, 3]"
   ]
  },
  {
   "cell_type": "markdown",
   "metadata": {
    "slideshow": {
     "slide_type": "slide"
    }
   },
   "source": [
    "Array indexing starts with 1 in Julia:"
   ]
  },
  {
   "cell_type": "code",
   "execution_count": 10,
   "metadata": {
    "collapsed": false,
    "slideshow": {
     "slide_type": "fragment"
    }
   },
   "outputs": [
    {
     "data": {
      "text/plain": [
       "1"
      ]
     },
     "execution_count": 10,
     "metadata": {},
     "output_type": "execute_result"
    }
   ],
   "source": [
    "myList[1]"
   ]
  },
  {
   "cell_type": "code",
   "execution_count": 11,
   "metadata": {
    "collapsed": false,
    "slideshow": {
     "slide_type": "subslide"
    }
   },
   "outputs": [
    {
     "data": {
      "text/plain": [
       "3-element Array{Int64,1}:\n",
       " 1\n",
       " 2\n",
       " 4"
      ]
     },
     "execution_count": 11,
     "metadata": {},
     "output_type": "execute_result"
    }
   ],
   "source": [
    "myList[3] = 4\n",
    "myList"
   ]
  },
  {
   "cell_type": "markdown",
   "metadata": {
    "slideshow": {
     "slide_type": "slide"
    }
   },
   "source": [
    "A 2-dimensional array is a Matrix"
   ]
  },
  {
   "cell_type": "code",
   "execution_count": 12,
   "metadata": {
    "collapsed": false,
    "slideshow": {
     "slide_type": "fragment"
    }
   },
   "outputs": [
    {
     "data": {
      "text/plain": [
       "3×3 Array{Int64,2}:\n",
       " 1  2  3\n",
       " 2  1  2\n",
       " 3  2  1"
      ]
     },
     "execution_count": 12,
     "metadata": {},
     "output_type": "execute_result"
    }
   ],
   "source": [
    "A = [1 2 3\n",
    "     2 1 2\n",
    "     3 2 1]\n",
    "\n",
    "A = [1 2 3; 2 1 2; 3 2 1] #same thing"
   ]
  },
  {
   "cell_type": "markdown",
   "metadata": {
    "slideshow": {
     "slide_type": "slide"
    }
   },
   "source": [
    "Matrix can be multiplied, inversed..."
   ]
  },
  {
   "cell_type": "code",
   "execution_count": 13,
   "metadata": {
    "collapsed": false,
    "slideshow": {
     "slide_type": "fragment"
    }
   },
   "outputs": [
    {
     "data": {
      "text/plain": [
       "3×3 Array{Float64,2}:\n",
       " 1.0  2.0  3.0\n",
       " 2.0  1.0  2.0\n",
       " 3.0  2.0  1.0"
      ]
     },
     "execution_count": 13,
     "metadata": {},
     "output_type": "execute_result"
    }
   ],
   "source": [
    "A^-1 #inverse\n",
    "\n",
    "A^2 * A^-1"
   ]
  },
  {
   "cell_type": "code",
   "execution_count": 14,
   "metadata": {
    "collapsed": false,
    "slideshow": {
     "slide_type": "subslide"
    }
   },
   "outputs": [
    {
     "data": {
      "text/plain": [
       "3-element Array{Int64,1}:\n",
       " 14\n",
       " 10\n",
       " 10"
      ]
     },
     "execution_count": 14,
     "metadata": {},
     "output_type": "execute_result"
    }
   ],
   "source": [
    "A*[1,2,3]"
   ]
  },
  {
   "cell_type": "code",
   "execution_count": 15,
   "metadata": {
    "collapsed": false,
    "slideshow": {
     "slide_type": "subslide"
    }
   },
   "outputs": [
    {
     "data": {
      "text/plain": [
       "3-element Array{Float64,1}:\n",
       " -2.0     \n",
       " -0.701562\n",
       "  5.70156 "
      ]
     },
     "execution_count": 15,
     "metadata": {},
     "output_type": "execute_result"
    }
   ],
   "source": [
    "eigenValues, eigenVectors = eig(A)\n",
    "eigenValues"
   ]
  },
  {
   "cell_type": "markdown",
   "metadata": {
    "slideshow": {
     "slide_type": "slide"
    }
   },
   "source": [
    "**Types:** Everything has a type in Julia"
   ]
  },
  {
   "cell_type": "code",
   "execution_count": 16,
   "metadata": {
    "collapsed": false,
    "slideshow": {
     "slide_type": "fragment"
    }
   },
   "outputs": [
    {
     "data": {
      "text/plain": [
       "Int64"
      ]
     },
     "execution_count": 16,
     "metadata": {},
     "output_type": "execute_result"
    }
   ],
   "source": [
    "typeof(1)"
   ]
  },
  {
   "cell_type": "code",
   "execution_count": 17,
   "metadata": {
    "collapsed": false,
    "slideshow": {
     "slide_type": "subslide"
    }
   },
   "outputs": [
    {
     "data": {
      "text/plain": [
       "Float64"
      ]
     },
     "execution_count": 17,
     "metadata": {},
     "output_type": "execute_result"
    }
   ],
   "source": [
    "typeof(1.5)"
   ]
  },
  {
   "cell_type": "code",
   "execution_count": 18,
   "metadata": {
    "collapsed": false,
    "slideshow": {
     "slide_type": "subslide"
    }
   },
   "outputs": [
    {
     "data": {
      "text/plain": [
       "String"
      ]
     },
     "execution_count": 18,
     "metadata": {},
     "output_type": "execute_result"
    }
   ],
   "source": [
    "typeof(\"abc\")"
   ]
  },
  {
   "cell_type": "markdown",
   "metadata": {
    "slideshow": {
     "slide_type": "slide"
    }
   },
   "source": [
    "Types are at the core of Julia's performance. **[multiple dispatch](https://en.wikipedia.org/wiki/Multiple_dispatch)** is used dynamically when a function is called, selecting the right version of the function depending on the type of its argument."
   ]
  },
  {
   "cell_type": "code",
   "execution_count": 19,
   "metadata": {
    "collapsed": false,
    "slideshow": {
     "slide_type": "fragment"
    }
   },
   "outputs": [
    {
     "data": {
      "text/plain": [
       "1//2"
      ]
     },
     "execution_count": 19,
     "metadata": {},
     "output_type": "execute_result"
    }
   ],
   "source": [
    "1//2 # fraction in Julia"
   ]
  },
  {
   "cell_type": "code",
   "execution_count": 20,
   "metadata": {
    "collapsed": false,
    "slideshow": {
     "slide_type": "subslide"
    }
   },
   "outputs": [
    {
     "data": {
      "text/plain": [
       "Rational{Int64}"
      ]
     },
     "execution_count": 20,
     "metadata": {},
     "output_type": "execute_result"
    }
   ],
   "source": [
    "typeof(1//2)"
   ]
  },
  {
   "cell_type": "code",
   "execution_count": 21,
   "metadata": {
    "collapsed": false,
    "slideshow": {
     "slide_type": "subslide"
    }
   },
   "outputs": [
    {
     "data": {
      "text/plain": [
       "1//4"
      ]
     },
     "execution_count": 21,
     "metadata": {},
     "output_type": "execute_result"
    }
   ],
   "source": [
    "(1//2)^2"
   ]
  },
  {
   "cell_type": "code",
   "execution_count": 22,
   "metadata": {
    "collapsed": false,
    "slideshow": {
     "slide_type": "subslide"
    }
   },
   "outputs": [
    {
     "data": {
      "text/plain": [
       "0.25"
      ]
     },
     "execution_count": 22,
     "metadata": {},
     "output_type": "execute_result"
    }
   ],
   "source": [
    "(0.5)^2 # The same function gives different results depending on the type"
   ]
  },
  {
   "cell_type": "code",
   "execution_count": 23,
   "metadata": {
    "collapsed": false,
    "slideshow": {
     "slide_type": "subslide"
    }
   },
   "outputs": [
    {
     "data": {
      "text/plain": [
       "-1 + 0im"
      ]
     },
     "execution_count": 23,
     "metadata": {},
     "output_type": "execute_result"
    }
   ],
   "source": [
    "(im)^2 # This also works with complex numbers"
   ]
  },
  {
   "cell_type": "code",
   "execution_count": 24,
   "metadata": {
    "collapsed": false,
    "slideshow": {
     "slide_type": "subslide"
    }
   },
   "outputs": [
    {
     "name": "stdout",
     "output_type": "stream",
     "text": [
      "Julia!\n",
      "IJulia!\n",
      "Julia!\n"
     ]
    }
   ],
   "source": [
    "function myFunction(x)\n",
    "    println(\"Julia!\")\n",
    "end\n",
    "\n",
    "function myFunction(x::Int) # only called when x is an integer\n",
    "    println(\"IJulia!\")\n",
    "end\n",
    "\n",
    "myFunction(1.0)\n",
    "myFunction(1)\n",
    "myFunction(\"Joey\")"
   ]
  },
  {
   "cell_type": "markdown",
   "metadata": {
    "slideshow": {
     "slide_type": "slide"
    }
   },
   "source": [
    "A lot more functionalities are available and for you to discover!"
   ]
  },
  {
   "cell_type": "code",
   "execution_count": 25,
   "metadata": {
    "collapsed": false,
    "slideshow": {
     "slide_type": "fragment"
    }
   },
   "outputs": [
    {
     "data": {
      "text/plain": [
       "5-element Array{Int64,1}:\n",
       "   4\n",
       "  16\n",
       "  36\n",
       "  64\n",
       " 100"
      ]
     },
     "execution_count": 25,
     "metadata": {},
     "output_type": "execute_result"
    }
   ],
   "source": [
    "l = [i^2 for i in 1:10 if i%2 == 0] # list comprehensions (similar to Python)"
   ]
  },
  {
   "cell_type": "markdown",
   "metadata": {
    "slideshow": {
     "slide_type": "slide"
    }
   },
   "source": [
    "### Navigating Julia\n",
    "Julia has a package manager to quickly download, install, update and uninstall new tools (_packages_)"
   ]
  },
  {
   "cell_type": "code",
   "execution_count": null,
   "metadata": {
    "collapsed": false,
    "slideshow": {
     "slide_type": "subslide"
    }
   },
   "outputs": [],
   "source": [
    "# Add Packages Plots, and Pyplot (can take some time)\n",
    "Pkg.add(\"Plots\")\n",
    "Pkg.add(\"PyPlot\")\n",
    "# Update\n",
    "Pkg.update()\n",
    "#Remove:\n",
    "# Pkg.rm(\"PyPlot\")"
   ]
  },
  {
   "cell_type": "markdown",
   "metadata": {
    "slideshow": {
     "slide_type": "slide"
    }
   },
   "source": [
    "Use `?` to get the documentation of a function"
   ]
  },
  {
   "cell_type": "code",
   "execution_count": 26,
   "metadata": {
    "collapsed": false,
    "slideshow": {
     "slide_type": "fragment"
    }
   },
   "outputs": [
    {
     "name": "stdout",
     "output_type": "stream",
     "text": [
      "search: \u001b[1me\u001b[22m\u001b[1mi\u001b[22m\u001b[1mg\u001b[22m \u001b[1me\u001b[22m\u001b[1mi\u001b[22m\u001b[1mg\u001b[22ms \u001b[1me\u001b[22m\u001b[1mi\u001b[22m\u001b[1mg\u001b[22mmin \u001b[1me\u001b[22m\u001b[1mi\u001b[22m\u001b[1mg\u001b[22mmax \u001b[1me\u001b[22m\u001b[1mi\u001b[22m\u001b[1mg\u001b[22mvecs \u001b[1me\u001b[22m\u001b[1mi\u001b[22m\u001b[1mg\u001b[22mvals \u001b[1me\u001b[22m\u001b[1mi\u001b[22m\u001b[1mg\u001b[22mfact \u001b[1me\u001b[22m\u001b[1mi\u001b[22m\u001b[1mg\u001b[22mvals! \u001b[1me\u001b[22m\u001b[1mi\u001b[22m\u001b[1mg\u001b[22mfact!\n",
      "\n"
     ]
    },
    {
     "data": {
      "text/markdown": [
       "```\n",
       "eig(A,[irange,][vl,][vu,][permute=true,][scale=true]) -> D, V\n",
       "```\n",
       "\n",
       "Computes eigenvalues (`D`) and eigenvectors (`V`) of `A`. See [`eigfact`](:func:`eigfact`) for details on the `irange`, `vl`, and `vu` arguments and the `permute` and `scale` keyword arguments. The eigenvectors are returned columnwise.\n",
       "\n",
       "```jldoctest\n",
       "julia> eig([1.0 0.0 0.0; 0.0 3.0 0.0; 0.0 0.0 18.0])\n",
       "([1.0,3.0,18.0],\n",
       "[1.0 0.0 0.0; 0.0 1.0 0.0; 0.0 0.0 1.0])\n",
       "```\n",
       "\n",
       "`eig` is a wrapper around [`eigfact`](:func:`eigfact`), extracting all parts of the factorization to a tuple; where possible, using [`eigfact`](:func:`eigfact`) is recommended.\n",
       "\n",
       "```\n",
       "eig(A, B) -> D, V\n",
       "```\n",
       "\n",
       "Computes generalized eigenvalues (`D`) and vectors (`V`) of `A` with respect to `B`.\n",
       "\n",
       "`eig` is a wrapper around [`eigfact`](:func:`eigfact`), extracting all parts of the factorization to a tuple; where possible, using [`eigfact`](:func:`eigfact`) is recommended.\n",
       "\n",
       "```jldoctest\n",
       "julia> A = [1 0; 0 -1]\n",
       "2×2 Array{Int64,2}:\n",
       " 1   0\n",
       " 0  -1\n",
       "\n",
       "julia> B = [0 1; 1 0]\n",
       "2×2 Array{Int64,2}:\n",
       " 0  1\n",
       " 1  0\n",
       "\n",
       "julia> eig(A, B)\n",
       "(Complex{Float64}[0.0+1.0im,0.0-1.0im],\n",
       "Complex{Float64}[0.0-1.0im 0.0+1.0im; -1.0-0.0im -1.0+0.0im])\n",
       "```\n"
      ],
      "text/plain": [
       "```\n",
       "eig(A,[irange,][vl,][vu,][permute=true,][scale=true]) -> D, V\n",
       "```\n",
       "\n",
       "Computes eigenvalues (`D`) and eigenvectors (`V`) of `A`. See [`eigfact`](:func:`eigfact`) for details on the `irange`, `vl`, and `vu` arguments and the `permute` and `scale` keyword arguments. The eigenvectors are returned columnwise.\n",
       "\n",
       "```jldoctest\n",
       "julia> eig([1.0 0.0 0.0; 0.0 3.0 0.0; 0.0 0.0 18.0])\n",
       "([1.0,3.0,18.0],\n",
       "[1.0 0.0 0.0; 0.0 1.0 0.0; 0.0 0.0 1.0])\n",
       "```\n",
       "\n",
       "`eig` is a wrapper around [`eigfact`](:func:`eigfact`), extracting all parts of the factorization to a tuple; where possible, using [`eigfact`](:func:`eigfact`) is recommended.\n",
       "\n",
       "```\n",
       "eig(A, B) -> D, V\n",
       "```\n",
       "\n",
       "Computes generalized eigenvalues (`D`) and vectors (`V`) of `A` with respect to `B`.\n",
       "\n",
       "`eig` is a wrapper around [`eigfact`](:func:`eigfact`), extracting all parts of the factorization to a tuple; where possible, using [`eigfact`](:func:`eigfact`) is recommended.\n",
       "\n",
       "```jldoctest\n",
       "julia> A = [1 0; 0 -1]\n",
       "2×2 Array{Int64,2}:\n",
       " 1   0\n",
       " 0  -1\n",
       "\n",
       "julia> B = [0 1; 1 0]\n",
       "2×2 Array{Int64,2}:\n",
       " 0  1\n",
       " 1  0\n",
       "\n",
       "julia> eig(A, B)\n",
       "(Complex{Float64}[0.0+1.0im,0.0-1.0im],\n",
       "Complex{Float64}[0.0-1.0im 0.0+1.0im; -1.0-0.0im -1.0+0.0im])\n",
       "```\n"
      ]
     },
     "execution_count": 26,
     "metadata": {},
     "output_type": "execute_result"
    }
   ],
   "source": [
    "?eig"
   ]
  },
  {
   "cell_type": "markdown",
   "metadata": {
    "slideshow": {
     "slide_type": "slide"
    }
   },
   "source": [
    "Use tab-completion to auto-complete functions and variables names: try ``myF<TAB>``:"
   ]
  },
  {
   "cell_type": "code",
   "execution_count": null,
   "metadata": {
    "collapsed": false,
    "slideshow": {
     "slide_type": "fragment"
    }
   },
   "outputs": [],
   "source": [
    "myF\n",
    "fac"
   ]
  },
  {
   "cell_type": "markdown",
   "metadata": {
    "slideshow": {
     "slide_type": "slide"
    }
   },
   "source": [
    "The ``methods`` function lists all of the different implementations of a function depending on the input types.\n",
    "Click on the link to see the Julia source code."
   ]
  },
  {
   "cell_type": "code",
   "execution_count": 27,
   "metadata": {
    "collapsed": false,
    "slideshow": {
     "slide_type": "fragment"
    }
   },
   "outputs": [
    {
     "data": {
      "text/html": [
       "10 methods for generic function <b>sin</b>:<ul><li> sin(x::<b>BigFloat</b>) at <a href=\"https://github.com/JuliaLang/julia/tree/3c9d75391c72d7c32eea75ff187ce77b2d5effc8/base/mpfr.jl#L610\" target=\"_blank\">mpfr.jl:610</a></li> <li> sin(a::<b>Complex{Float16}</b>) at <a href=\"https://github.com/JuliaLang/julia/tree/3c9d75391c72d7c32eea75ff187ce77b2d5effc8/base/math.jl#L480\" target=\"_blank\">math.jl:480</a></li> <li> sin(a::<b>Float16</b>) at <a href=\"https://github.com/JuliaLang/julia/tree/3c9d75391c72d7c32eea75ff187ce77b2d5effc8/base/math.jl#L479\" target=\"_blank\">math.jl:479</a></li> <li> sin(x::<b>Float32</b>) at <a href=\"https://github.com/JuliaLang/julia/tree/3c9d75391c72d7c32eea75ff187ce77b2d5effc8/base/math.jl#L203\" target=\"_blank\">math.jl:203</a></li> <li> sin(x::<b>Float64</b>) at <a href=\"https://github.com/JuliaLang/julia/tree/3c9d75391c72d7c32eea75ff187ce77b2d5effc8/base/math.jl#L202\" target=\"_blank\">math.jl:202</a></li> <li> sin<i>{T}</i>(z::<b>Complex{T}</b>) at <a href=\"https://github.com/JuliaLang/julia/tree/3c9d75391c72d7c32eea75ff187ce77b2d5effc8/base/complex.jl#L575\" target=\"_blank\">complex.jl:575</a></li> <li> sin(x::<b>Real</b>) at <a href=\"https://github.com/JuliaLang/julia/tree/3c9d75391c72d7c32eea75ff187ce77b2d5effc8/base/math.jl#L204\" target=\"_blank\">math.jl:204</a></li> <li> sin<i>{Tv,Ti}</i>(A::<b>SparseMatrixCSC{Tv,Ti}</b>) at <a href=\"https://github.com/JuliaLang/julia/tree/3c9d75391c72d7c32eea75ff187ce77b2d5effc8/base/sparse/sparsematrix.jl#L1347\" target=\"_blank\">sparse/sparsematrix.jl:1347</a></li> <li> sin<i>{Tv<:Number,Ti<:Integer}</i>(x::<b>AbstractSparseArray{Tv,Ti,1}</b>) at <a href=\"https://github.com/JuliaLang/julia/tree/3c9d75391c72d7c32eea75ff187ce77b2d5effc8/base/sparse/sparsevector.jl#L853\" target=\"_blank\">sparse/sparsevector.jl:853</a></li> <li> sin<i>{T<:Number}</i>(x::<b>AbstractArray{T,N<:Any}</b>) at <a href=\"https://github.com/JuliaLang/julia/tree/3c9d75391c72d7c32eea75ff187ce77b2d5effc8/base/operators.jl#L555\" target=\"_blank\">operators.jl:555</a></li> </ul>"
      ],
      "text/plain": [
       "# 10 methods for generic function \"sin\":\n",
       "sin(x::BigFloat) at mpfr.jl:610\n",
       "sin(a::Complex{Float16}) at math.jl:480\n",
       "sin(a::Float16) at math.jl:479\n",
       "sin(x::Float32) at math.jl:203\n",
       "sin(x::Float64) at math.jl:202\n",
       "sin{T}(z::Complex{T}) at complex.jl:575\n",
       "sin(x::Real) at math.jl:204\n",
       "sin{Tv,Ti}(A::SparseMatrixCSC{Tv,Ti}) at sparse/sparsematrix.jl:1347\n",
       "sin{Tv<:Number,Ti<:Integer}(x::AbstractSparseArray{Tv,Ti,1}) at sparse/sparsevector.jl:853\n",
       "sin{T<:Number}(x::AbstractArray{T,N<:Any}) at operators.jl:555"
      ]
     },
     "execution_count": 27,
     "metadata": {},
     "output_type": "execute_result"
    }
   ],
   "source": [
    "methods(sin)"
   ]
  },
  {
   "cell_type": "markdown",
   "metadata": {
    "slideshow": {
     "slide_type": "slide"
    }
   },
   "source": [
    "### Plotting in IJulia\n",
    "There are several Julia plotting packages. \n",
    "\n",
    "- [PyPlot.jl][3] is a Julia interface to Matplotlib, and should feel familiar to both MATLAB and Python users.\n",
    "- [Gadfly][1] is written entirely in Julia, inspired by ggplot2, and concentrates on statistical graphics.\n",
    "- [Plotly supports Julia][2].\n",
    "- [Plots][4] is a _meta_ plotting package, that can use any other plotting package to make the same plot \n",
    "- And a lot more\n",
    "\n",
    "Jupyter/IJulia will render the plots directly on the notebook!\n",
    "\n",
    "[1]: https://github.com/dcjones/Gadfly.jl\n",
    "[2]: https://plot.ly/julia/\n",
    "[3]: https://github.com/stevengj/PyPlot.jl\n",
    "[4]: https://juliaplots.github.io"
   ]
  },
  {
   "cell_type": "code",
   "execution_count": 32,
   "metadata": {
    "collapsed": false,
    "slideshow": {
     "slide_type": "slide"
    }
   },
   "outputs": [
    {
     "data": {
      "text/html": [
       "<img src=\"data:image/png;base64,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\" />"
      ]
     },
     "execution_count": 32,
     "metadata": {},
     "output_type": "execute_result"
    }
   ],
   "source": [
    "using Plots\n",
    "pyplot() #plot using Matplotlib\n",
    "x = linspace(0,5,1000)\n",
    "plot(x, sin(x.^2))"
   ]
  },
  {
   "cell_type": "markdown",
   "metadata": {
    "slideshow": {
     "slide_type": "fragment"
    }
   },
   "source": [
    "Note that the first plot while always take a few seconds to be drawn, a consequence of Julia's just in time compilation. Lots of other plot types are available"
   ]
  },
  {
   "cell_type": "markdown",
   "metadata": {
    "slideshow": {
     "slide_type": "slide"
    }
   },
   "source": [
    "## Advanced use of Julia and Notebooks\n",
    "The following is just a sample of what can be done with Julia and notebooks. Feel free to explore by yourself any item of interest"
   ]
  },
  {
   "cell_type": "markdown",
   "metadata": {
    "slideshow": {
     "slide_type": "slide"
    }
   },
   "source": [
    "### Notebooks\n",
    "Jupyter notebooks have a lot of interesting hidden functionalities!"
   ]
  },
  {
   "cell_type": "markdown",
   "metadata": {
    "slideshow": {
     "slide_type": "subslide"
    }
   },
   "source": [
    "**Github and sharing**\n",
    "\n",
    "If you save your .ipynb notebook file in a .git project, hosted on Github, you can easily visualize and share it online (in non-interactive mode).\n",
    "\n",
    "For example, this notebook is available at https://github.com/sebmart/intro-julia-jupyter/blob/master/intro-julia-jupyter.ipynb\n",
    "\n",
    "You can also use [Gist](https://gist.github.com) and [nbviewer](http://nbviewer.jupyter.org) to quickly share a notebook (for example to your advisor) without creating a git repo."
   ]
  },
  {
   "cell_type": "markdown",
   "metadata": {
    "slideshow": {
     "slide_type": "subslide"
    }
   },
   "source": [
    "**Converting your notebook**\n",
    "\n",
    "Jupyter notebooks are a popular format that can be converted to a variety of types of documents, depending on your needs:\n",
    "- Latex\n",
    "- HTML\n",
    "- PDF\n",
    "- Slides with Reveal.JS (used to present this notebook!)\n",
    "- Markdown ...\n",
    "\n",
    "These conversions use the [`nbconvert`](https://github.com/jupyter/nbconvert) command."
   ]
  },
  {
   "cell_type": "markdown",
   "metadata": {
    "slideshow": {
     "slide_type": "subslide"
    }
   },
   "source": [
    "**Interactivity**\n",
    "\n",
    "Julia code can be made interactive in the notebook using the [`Interact.jl`](https://github.com/JuliaGizmos/Interact.jl) Julia Package. Users can for example change the parameters of a plot dynamically:\n",
    "![Interact.jl](src/figures/interact.png)"
   ]
  },
  {
   "cell_type": "markdown",
   "metadata": {
    "slideshow": {
     "slide_type": "subslide"
    }
   },
   "source": [
    "**Remote computing**\n",
    "\n",
    "The Notebook system is a web interface. Notebooks can be run on another computer. This is useful if you want your code to run on a more powerful remote machine.\n",
    "\n",
    "[Port-forwarding](www.google.com/search?q=port+forwarding+ssh) through SSH is a good start for this."
   ]
  },
  {
   "cell_type": "markdown",
   "metadata": {
    "slideshow": {
     "slide_type": "subslide"
    }
   },
   "source": [
    "**Advanced Markdown**\n",
    "\n",
    "Jupyter text cells use Markdown for formatting. Markdown is an easy to use formatting language (a little like HTML or LaTeX in more simple). You can use the text of this notebook as an example, or learn more [here](https://github.com/adam-p/markdown-here/wiki/Markdown-Cheatsheet).\n",
    "\n",
    "Jupyter uses _Github flavored Markdown_, and is particularly good at displaying math and colored code. You can even include a video!"
   ]
  },
  {
   "cell_type": "markdown",
   "metadata": {
    "slideshow": {
     "slide_type": "slide"
    }
   },
   "source": [
    "### Julia\n",
    "We only presented a small subset of Julia functionalities. We list here of few interesting things you may not know."
   ]
  },
  {
   "cell_type": "markdown",
   "metadata": {
    "slideshow": {
     "slide_type": "subslide"
    }
   },
   "source": [
    "**Using the command line from Julia**\n",
    "\n",
    "You can run bash command from Julia, just start the command with a semi-colon: `;`"
   ]
  },
  {
   "cell_type": "code",
   "execution_count": 40,
   "metadata": {
    "collapsed": false,
    "slideshow": {
     "slide_type": "fragment"
    }
   },
   "outputs": [
    {
     "name": "stdout",
     "output_type": "stream",
     "text": [
      "LICENSE\n",
      "intro-julia-jupyter.ipynb\n",
      "intro-julia-jupyter.slides.html\n",
      "src\n"
     ]
    }
   ],
   "source": [
    ";ls"
   ]
  },
  {
   "cell_type": "markdown",
   "metadata": {
    "slideshow": {
     "slide_type": "subslide"
    }
   },
   "source": [
    "**Unicode character** \n",
    "\n",
    "You can use unicode characters as part of variables and function names in Julia. You can use $\\LaTeX$-style autocompletes in the Julia terminal or a Jupyter/IJulia code-cell to write them. Some of them are already defined Julia constants and functions\n",
    "> Try to type `\\pi<TAB>` in a cell."
   ]
  },
  {
   "cell_type": "code",
   "execution_count": 41,
   "metadata": {
    "collapsed": false,
    "slideshow": {
     "slide_type": "fragment"
    }
   },
   "outputs": [
    {
     "data": {
      "text/plain": [
       "π = 3.1415926535897..."
      ]
     },
     "execution_count": 41,
     "metadata": {},
     "output_type": "execute_result"
    }
   ],
   "source": [
    "π"
   ]
  },
  {
   "cell_type": "code",
   "execution_count": 42,
   "metadata": {
    "collapsed": false,
    "slideshow": {
     "slide_type": "subslide"
    }
   },
   "outputs": [
    {
     "data": {
      "text/plain": [
       "true"
      ]
     },
     "execution_count": 42,
     "metadata": {},
     "output_type": "execute_result"
    }
   ],
   "source": [
    "\"carrot\" ∈ [\"potato\", \"tomato\", \"carrot\"]"
   ]
  },
  {
   "cell_type": "markdown",
   "metadata": {
    "slideshow": {
     "slide_type": "subslide"
    }
   },
   "source": [
    "**Juno**\n",
    "\n",
    "Julia has a very nice and powerful text editor, [_Juno_](http://junolab.org), that is built on [Atom](https://atom.io). It is very similar to the Matlab interface or RStudio. Functionalities include:\n",
    "- Autocomplete\n",
    "- Integrated Plotting\n",
    "- Debugging, Manual, ...\n",
    "\n",
    "It is better suited for serious projects with several files, when an IJulia notebook is not enough."
   ]
  },
  {
   "cell_type": "markdown",
   "metadata": {
    "slideshow": {
     "slide_type": "subslide"
    }
   },
   "source": [
    "**Advanced Julia functionalities**\n",
    "Julia is a state-of-the-art programming language, with lots of useful functionalities, including:\n",
    "- [Powerful Macros](http://docs.julialang.org/en/release-0.5/manual/metaprogramming/) (meta-programming)\n",
    "- [Code testing](http://docs.julialang.org/en/release-0.5/stdlib/test/)\n",
    "- [User-defined types](docs.julialang.org/en/release-0.5/manual/types/), that are as fast as built-in ones.\n",
    "- [Package creation](http://docs.julialang.org/en/release-0.5/manual/modules/)\n",
    "- A new [debugger](https://github.com/Keno/Gallium.jl) "
   ]
  },
  {
   "cell_type": "markdown",
   "metadata": {
    "slideshow": {
     "slide_type": "slide"
    }
   },
   "source": [
    "### Interesting Packages\n",
    "Using the Package eco-system, there is almost nothing you cannot achieve:"
   ]
  },
  {
   "cell_type": "markdown",
   "metadata": {
    "slideshow": {
     "slide_type": "fragment"
    }
   },
   "source": [
    "-       Advanced Plotting   with [**Plots.jl**](https://juliaplots.github.io). Functionalities include 3D-plots, animated plots, stats plots, home-made plot \"recipes\" ..."
   ]
  },
  {
   "cell_type": "markdown",
   "metadata": {
    "slideshow": {
     "slide_type": "fragment"
    }
   },
   "source": [
    "- Call any python call using [**PyCall.jl**](https://github.com/JuliaPy/PyCall.jl). (you can also interacts with several other languages)"
   ]
  },
  {
   "cell_type": "markdown",
   "metadata": {
    "slideshow": {
     "slide_type": "subslide"
    }
   },
   "source": [
    "- Advanced graphs/networks algorithms with [**LightGraphs.jl**](https://github.com/JuliaGraphs/LightGraphs.jl)"
   ]
  },
  {
   "cell_type": "markdown",
   "metadata": {
    "slideshow": {
     "slide_type": "fragment"
    }
   },
   "source": [
    "- Applications in [**Finance**](https://github.com/JuliaQuant), [**Biology**](https://github.com/BioJulia/Bio.jl), [**Stats and Machine Learning**](http://juliastats.github.io), [**Optimization**](http://www.juliaopt.org) (including the great [**JuMP**](https://github.com/JuliaOpt/JuMP.jl) package!)"
   ]
  },
  {
   "cell_type": "markdown",
   "metadata": {
    "slideshow": {
     "slide_type": "subslide"
    }
   },
   "source": [
    "- Save and load your variables or environment to a file with [**JLD.jl**](https://github.com/JuliaIO/JLD.jl)"
   ]
  },
  {
   "cell_type": "markdown",
   "metadata": {
    "slideshow": {
     "slide_type": "fragment"
    }
   },
   "source": [
    "- More data structures in [**DataStructures.jl**](https://github.com/JuliaLang/DataStructures.jl)"
   ]
  },
  {
   "cell_type": "markdown",
   "metadata": {
    "slideshow": {
     "slide_type": "fragment"
    }
   },
   "source": [
    "- And a lot more in the **over 1200 registered packages**!"
   ]
  },
  {
   "cell_type": "markdown",
   "metadata": {
    "slideshow": {
     "slide_type": "skip"
    }
   },
   "source": [
    "-------\n",
    "\n",
    "Some content in this notebook was adapted from materials by [Miles Lubin](https://github.com/joehuchette/OR-software-tools-2015/blob/master/6-nonlinear-opt/IJulia%20intro.ipynb)"
   ]
  }
 ],
 "metadata": {
  "celltoolbar": "Slideshow",
  "kernelspec": {
   "display_name": "Julia 0.5.0",
   "language": "julia",
   "name": "julia-0.5"
  },
  "language_info": {
   "file_extension": ".jl",
   "mimetype": "application/julia",
   "name": "julia",
   "version": "0.5.0"
  }
 },
 "nbformat": 4,
 "nbformat_minor": 0
}
