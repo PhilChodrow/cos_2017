{
 "cells": [
  {
   "cell_type": "markdown",
   "metadata": {},
   "source": [
    "# Deep Learning & Neural Networks\n",
    "## Project 2 - Binary Encodings"
   ]
  },
  {
   "cell_type": "markdown",
   "metadata": {},
   "source": [
    "### SETUP"
   ]
  },
  {
   "cell_type": "code",
   "execution_count": null,
   "metadata": {
    "collapsed": true
   },
   "outputs": [],
   "source": [
    "# Load TensorFlow\n",
    "import tensorflow as tf\n",
    "# Load numpy - adds MATLAB/Julia-style math to Python\n",
    "import numpy as np\n",
    "# Load matplotlib for plotting\n",
    "%matplotlib inline\n",
    "import matplotlib.pyplot as plt"
   ]
  },
  {
   "cell_type": "code",
   "execution_count": null,
   "metadata": {
    "collapsed": false
   },
   "outputs": [],
   "source": [
    "# Create the one-hot encodings\n",
    "# Symmetric matrix, so doesn't really matter\n",
    "# But for sanity, we'll think of row = number\n",
    "data = np.eye(8).astype(np.float32)\n",
    "# Plot it\n",
    "plt.matshow(data, cmap=plt.cm.gray)"
   ]
  },
  {
   "cell_type": "markdown",
   "metadata": {},
   "source": [
    "### LIVE CODING BEGINS"
   ]
  },
  {
   "cell_type": "code",
   "execution_count": null,
   "metadata": {
    "collapsed": false
   },
   "outputs": [],
   "source": [
    "# Lets create our computation graph\n",
    "INPUT_DIM = 8\n",
    "CODE_DIM = 3\n",
    "\n",
    "# Encoder: a sigmoid, with no bias term\n",
    "enc_weight = tf.Variable(tf.random_uniform([INPUT_DIM,CODE_DIM], -1.0, +1.0))\n",
    "enc_input  = tf.matmul(data, enc_weight)\n",
    "enc_output = tf.nn.sigmoid(enc_input)\n",
    "\n",
    "# Decoder: a softmax, again with no bias\n",
    "# We'll be tricky here: let's use the same weights, just transposed!\n",
    "dec_weight = tf.transpose(enc_weight) #tf.Variable(tf.random_uniform([CODE_DIM,INPUT_DIM], -1.0, +1.0))\n",
    "dec_input  = tf.matmul(enc_output,dec_weight)\n",
    "dec_output = tf.nn.softmax(dec_input)\n",
    "\n",
    "# Calculate the error between input and output\n",
    "error = tf.reduce_sum(tf.square(data - dec_output))\n",
    "\n",
    "# Create optimizer and get ready\n",
    "optimizer = tf.train.GradientDescentOptimizer(0.1)\n",
    "train = optimizer.minimize(error)\n",
    "init = tf.initialize_all_variables()\n",
    "sess = tf.Session()\n",
    "sess.run(init)"
   ]
  },
  {
   "cell_type": "markdown",
   "metadata": {},
   "source": [
    "### LIVE CODING ENDS"
   ]
  },
  {
   "cell_type": "code",
   "execution_count": null,
   "metadata": {
    "collapsed": false
   },
   "outputs": [],
   "source": [
    "# What kind of output do we get right now?\n",
    "plt.matshow(sess.run(dec_output), cmap=plt.cm.gray)"
   ]
  },
  {
   "cell_type": "code",
   "execution_count": null,
   "metadata": {
    "collapsed": false
   },
   "outputs": [],
   "source": [
    "# Run some gradient steps\n",
    "errors = []\n",
    "N_STEPS = 5000\n",
    "for step in range(N_STEPS):\n",
    "    cur_error, _ = sess.run((error,train))\n",
    "    errors.append(cur_error)\n",
    "    if step % 1000 == 0:\n",
    "        print step, cur_error\n",
    "plt.plot(range(N_STEPS), errors, 'b-')"
   ]
  },
  {
   "cell_type": "code",
   "execution_count": null,
   "metadata": {
    "collapsed": false
   },
   "outputs": [],
   "source": [
    "# Where are we now?\n",
    "plt.matshow(sess.run(dec_output), cmap=plt.cm.gray)"
   ]
  },
  {
   "cell_type": "code",
   "execution_count": null,
   "metadata": {
    "collapsed": false
   },
   "outputs": [],
   "source": [
    "# What does the coding look like?\n",
    "plt.matshow(sess.run(enc_output), cmap=plt.cm.gray)"
   ]
  },
  {
   "cell_type": "code",
   "execution_count": null,
   "metadata": {
    "collapsed": false
   },
   "outputs": [],
   "source": [
    "# Let's roughly count the number of unique numbers - hopefulyl close to 8\n",
    "np.unique(map(lambda l: int(''.join(map(str, l)), 2), np.round(sess.run(enc_output)).astype(int)))"
   ]
  }
 ],
 "metadata": {
  "kernelspec": {
   "display_name": "Python 2",
   "language": "python",
   "name": "python2"
  },
  "language_info": {
   "codemirror_mode": {
    "name": "ipython",
    "version": 2
   },
   "file_extension": ".py",
   "mimetype": "text/x-python",
   "name": "python",
   "nbconvert_exporter": "python",
   "pygments_lexer": "ipython2",
   "version": "2.7.12"
  }
 },
 "nbformat": 4,
 "nbformat_minor": 0
}
