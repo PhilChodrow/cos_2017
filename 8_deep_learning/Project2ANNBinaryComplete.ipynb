{
 "cells": [
  {
   "cell_type": "markdown",
   "metadata": {},
   "source": [
    "# Deep Learning & Neural Networks\n",
    "## Project 2 - Binary Encodings"
   ]
  },
  {
   "cell_type": "markdown",
   "metadata": {},
   "source": [
    "### SETUP"
   ]
  },
  {
   "cell_type": "code",
   "execution_count": 10,
   "metadata": {
    "collapsed": true
   },
   "outputs": [],
   "source": [
    "# Load TensorFlow\n",
    "import tensorflow as tf\n",
    "# Load numpy - adds MATLAB/Julia-style math to Python\n",
    "import numpy as np\n",
    "# Load matplotlib for plotting\n",
    "%matplotlib inline\n",
    "import matplotlib.pyplot as plt"
   ]
  },
  {
   "cell_type": "code",
   "execution_count": 11,
   "metadata": {
    "collapsed": false
   },
   "outputs": [
    {
     "data": {
      "text/plain": [
       "<matplotlib.image.AxesImage at 0x10c1584d0>"
      ]
     },
     "execution_count": 11,
     "metadata": {},
     "output_type": "execute_result"
    },
    {
     "data": {
      "image/png": "[encoded data removed]",
      "text/plain": [
       "<matplotlib.figure.Figure at 0x10b899490>"
      ]
     },
     "metadata": {},
     "output_type": "display_data"
    }
   ],
   "source": [
    "# Create the one-hot encodings\n",
    "# Symmetric matrix, so doesn't really matter\n",
    "# But for sanity, we'll think of row = number\n",
    "data = np.matrix([\n",
    "        [1,0,0,0,0,0,0,0],\n",
    "        [0,1,0,0,0,0,0,0],\n",
    "        [0,0,1,0,0,0,0,0],\n",
    "        [0,0,0,1,0,0,0,0],\n",
    "        [0,0,0,0,1,0,0,0],\n",
    "        [0,0,0,0,0,1,0,0],\n",
    "        [0,0,0,0,0,0,1,0],\n",
    "        [0,0,0,0,0,0,0,1],\n",
    "    ], 'float32')\n",
    "# Plot it\n",
    "plt.matshow(data, cmap=plt.cm.gray)"
   ]
  },
  {
   "cell_type": "markdown",
   "metadata": {},
   "source": [
    "### LIVE CODING BEGINS"
   ]
  },
  {
   "cell_type": "code",
   "execution_count": 9,
   "metadata": {
    "collapsed": false
   },
   "outputs": [],
   "source": [
    "# Lets create our computation graph\n",
    "INPUT_DIM = 8\n",
    "CODE_DIM = 3\n",
    "\n",
    "# Encoder: a sigmoid, with no bias term\n",
    "enc_weight = tf.Variable(tf.random_uniform([INPUT_DIM,CODE_DIM], -1.0, +1.0))\n",
    "enc_input  = tf.matmul(data, enc_weight)\n",
    "enc_output = tf.nn.sigmoid(enc_input)\n",
    "\n",
    "# Decoder: a softmax, again with no bias\n",
    "# We'll be tricky here: let's use the same weights, just transposed!\n",
    "dec_weight = tf.transpose(enc_weight) #tf.Variable(tf.random_uniform([CODE_DIM,INPUT_DIM], -1.0, +1.0))\n",
    "dec_weight = tf.Variable(tf.random_uniform([CODE_DIM,INPUT_DIM], -1.0, +1.0))\n",
    "dec_input  = tf.matmul(enc_output,dec_weight)\n",
    "dec_output = tf.nn.softmax(dec_input)\n",
    "\n",
    "# Calculate the error between input and output\n",
    "error = tf.reduce_sum(tf.square(data - dec_output))\n",
    "\n",
    "# Create optimizer and get ready\n",
    "optimizer = tf.train.GradientDescentOptimizer(0.1)\n",
    "train = optimizer.minimize(error)\n",
    "init = tf.initialize_all_variables()\n",
    "sess = tf.Session()\n",
    "sess.run(init)"
   ]
  },
  {
   "cell_type": "markdown",
   "metadata": {},
   "source": [
    "### LIVE CODING ENDS"
   ]
  },
  {
   "cell_type": "code",
   "execution_count": 4,
   "metadata": {
    "collapsed": false
   },
   "outputs": [
    {
     "data": {
      "text/plain": [
       "<matplotlib.image.AxesImage at 0x10b5cfe10>"
      ]
     },
     "execution_count": 4,
     "metadata": {},
     "output_type": "execute_result"
    },
    {
     "data": {
      "image/png": "[encoded data removed]",
      "text/plain": [
       "<matplotlib.figure.Figure at 0x105a4efd0>"
      ]
     },
     "metadata": {},
     "output_type": "display_data"
    }
   ],
   "source": [
    "# What kind of output do we get right now?\n",
    "plt.matshow(sess.run(dec_output), cmap=plt.cm.gray)"
   ]
  },
  {
   "cell_type": "code",
   "execution_count": 5,
   "metadata": {
    "collapsed": false
   },
   "outputs": [
    {
     "name": "stdout",
     "output_type": "stream",
     "text": [
      "0 6.65015\n",
      "100 4.88434\n",
      "200 3.89801\n",
      "300 3.42805\n",
      "400 3.13699\n",
      "500 2.73046\n",
      "600 2.25752\n",
      "700 1.97135\n",
      "800 1.77986\n",
      "900 1.63999\n",
      "1000 1.52551\n",
      "1100 1.42972\n",
      "1200 1.35167\n",
      "1300 1.28877\n",
      "1400 1.23796\n",
      "1500 1.19657\n",
      "1600 1.16247\n",
      "1700 1.13407\n",
      "1800 1.11016\n",
      "1900 1.08984\n",
      "2000 1.07239\n",
      "2100 1.05729\n",
      "2200 1.04412\n",
      "2300 1.03253\n",
      "2400 1.02228\n",
      "2500 1.01314\n",
      "2600 1.00494\n",
      "2700 0.997545\n",
      "2800 0.990838\n",
      "2900 0.984723\n",
      "3000 0.979121\n",
      "3100 0.973968\n",
      "3200 0.969207\n",
      "3300 0.964792\n",
      "3400 0.960684\n",
      "3500 0.956849\n",
      "3600 0.95326\n",
      "3700 0.949892\n",
      "3800 0.946726\n",
      "3900 0.943744\n",
      "4000 0.94093\n",
      "4100 0.938273\n",
      "4200 0.935761\n",
      "4300 0.933384\n",
      "4400 0.931133\n",
      "4500 0.929001\n",
      "4600 0.926981\n",
      "4700 0.925066\n",
      "4800 0.923252\n",
      "4900 0.921531\n"
     ]
    },
    {
     "data": {
      "text/plain": [
       "[<matplotlib.lines.Line2D at 0x10b28cc10>]"
      ]
     },
     "execution_count": 5,
     "metadata": {},
     "output_type": "execute_result"
    },
    {
     "data": {
      "image/png": "[encoded data removed]",
      "text/plain": [
       "<matplotlib.figure.Figure at 0x10b713650>"
      ]
     },
     "metadata": {},
     "output_type": "display_data"
    }
   ],
   "source": [
    "# Run some gradient steps\n",
    "errors = []\n",
    "N_STEPS = 5000\n",
    "for step in range(N_STEPS):\n",
    "    cur_error, _ = sess.run((error,train))\n",
    "    errors.append(cur_error)\n",
    "    if step % 100 == 0:\n",
    "        print step, cur_error\n",
    "plt.plot(range(N_STEPS), errors, 'b-')"
   ]
  },
  {
   "cell_type": "code",
   "execution_count": 6,
   "metadata": {
    "collapsed": false
   },
   "outputs": [
    {
     "data": {
      "text/plain": [
       "<matplotlib.image.AxesImage at 0x10ba22e50>"
      ]
     },
     "execution_count": 6,
     "metadata": {},
     "output_type": "execute_result"
    },
    {
     "data": {
      "image/png": "[encoded data removed]",
      "text/plain": [
       "<matplotlib.figure.Figure at 0x10b28cad0>"
      ]
     },
     "metadata": {},
     "output_type": "display_data"
    }
   ],
   "source": [
    "# Where are we now?\n",
    "plt.matshow(sess.run(dec_output), cmap=plt.cm.gray)"
   ]
  },
  {
   "cell_type": "code",
   "execution_count": 7,
   "metadata": {
    "collapsed": false
   },
   "outputs": [
    {
     "data": {
      "text/plain": [
       "<matplotlib.image.AxesImage at 0x10bcf2290>"
      ]
     },
     "execution_count": 7,
     "metadata": {},
     "output_type": "execute_result"
    },
    {
     "data": {
      "image/png": "[encoded data removed]",
      "text/plain": [
       "<matplotlib.figure.Figure at 0x105635c10>"
      ]
     },
     "metadata": {},
     "output_type": "display_data"
    }
   ],
   "source": [
    "# What does the coding look like?\n",
    "plt.matshow(sess.run(enc_output), cmap=plt.cm.gray)"
   ]
  },
  {
   "cell_type": "code",
   "execution_count": null,
   "metadata": {
    "collapsed": false
   },
   "outputs": [],
   "source": [
    "sess.run(enc_output)"
   ]
  },
  {
   "cell_type": "code",
   "execution_count": 8,
   "metadata": {
    "collapsed": false
   },
   "outputs": [
    {
     "data": {
      "text/plain": [
       "array([0, 1, 2, 3, 4, 5, 6, 7])"
      ]
     },
     "execution_count": 8,
     "metadata": {},
     "output_type": "execute_result"
    }
   ],
   "source": [
    "np.unique(map(lambda l: int(''.join(map(str, l)), 2), np.round(sess.run(enc_output)).astype(int)))"
   ]
  },
  {
   "cell_type": "code",
   "execution_count": null,
   "metadata": {
    "collapsed": true
   },
   "outputs": [],
   "source": []
  }
 ],
 "metadata": {
  "kernelspec": {
   "display_name": "Python 2",
   "language": "python",
   "name": "python2"
  },
  "language_info": {
   "codemirror_mode": {
    "name": "ipython",
    "version": 2
   },
   "file_extension": ".py",
   "mimetype": "text/x-python",
   "name": "python",
   "nbconvert_exporter": "python",
   "pygments_lexer": "ipython2",
   "version": "2.7.12"
  }
 },
 "nbformat": 4,
 "nbformat_minor": 0
}
