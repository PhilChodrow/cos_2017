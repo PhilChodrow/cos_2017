{
 "cells": [
  {
   "cell_type": "markdown",
   "metadata": {},
   "source": [
    "# Deep Learning & Neural Networks\n",
    "## Project 3 - Handwriting Recognition with ConvNets"
   ]
  },
  {
   "cell_type": "markdown",
   "metadata": {},
   "source": [
    "### SETUP"
   ]
  },
  {
   "cell_type": "code",
   "execution_count": null,
   "metadata": {
    "collapsed": true
   },
   "outputs": [],
   "source": [
    "# Essentially\n",
    "# https://www.tensorflow.org/versions/master/tutorials/mnist/pros/index.html\n",
    "# but with inline comments\n",
    "\n",
    "# Load TensorFlow\n",
    "import tensorflow as tf\n",
    "# Load numpy - adds MATLAB/Julia-style math to Python\n",
    "import numpy as np\n",
    "# Load matplotlib for plotting\n",
    "%matplotlib inline\n",
    "import matplotlib.pyplot as plt"
   ]
  },
  {
   "cell_type": "code",
   "execution_count": null,
   "metadata": {
    "collapsed": false
   },
   "outputs": [],
   "source": [
    "# Load MNIST data set\n",
    "# Will download into working directory if not already there\n",
    "from tensorflow.examples.tutorials.mnist import input_data\n",
    "mnist = input_data.read_data_sets('MNIST_data', one_hot=True)"
   ]
  },
  {
   "cell_type": "code",
   "execution_count": null,
   "metadata": {
    "collapsed": true
   },
   "outputs": [],
   "source": [
    "# Some helper functions\n",
    "# Create, initialize, and return a weight matrix\n",
    "# of the provided shape\n",
    "def weight_variable(shape):\n",
    "    initial = tf.truncated_normal(shape, stddev=0.1)\n",
    "    return tf.Variable(initial)\n",
    "# Ditto, but for a bias term\n",
    "def bias_variable(shape):\n",
    "    initial = tf.constant(0.1, shape=shape)\n",
    "    return tf.Variable(initial)"
   ]
  },
  {
   "cell_type": "code",
   "execution_count": null,
   "metadata": {
    "collapsed": true
   },
   "outputs": [],
   "source": [
    "# TF lets you get fancy with convolutions\n",
    "# We want generic basic vanilla ones:\n",
    "# Stride: 1\n",
    "# Padding (for edges): use 0s\n",
    "def conv2d(x, W):\n",
    "    return tf.nn.conv2d(x, W, strides=[1, 1, 1, 1], padding='SAME')\n",
    "# Similar for our pooling: we'll use simple 2x2 max pooling\n",
    "# with no overlaps - so the output will be half the height\n",
    "# and width of the input\n",
    "def max_pool_2x2(x):\n",
    "    return tf.nn.max_pool(x, ksize=[1, 2, 2, 1],\n",
    "                            strides=[1, 2, 2, 1], padding='SAME')"
   ]
  },
  {
   "cell_type": "markdown",
   "metadata": {},
   "source": [
    "### LIVE CODING BEGINS"
   ]
  },
  {
   "cell_type": "code",
   "execution_count": null,
   "metadata": {
    "collapsed": false
   },
   "outputs": [],
   "source": [
    "#\n",
    "#\n",
    "#"
   ]
  },
  {
   "cell_type": "markdown",
   "metadata": {},
   "source": [
    "### LIVE CODING ENDS"
   ]
  },
  {
   "cell_type": "code",
   "execution_count": null,
   "metadata": {
    "collapsed": false
   },
   "outputs": [],
   "source": [
    "# Time for the training!\n",
    "# We'll use a \"cross entropy\" loss function instead\n",
    "# of square loss\n",
    "cross_entropy = -tf.reduce_sum(y_*tf.log(y_conv))\n",
    "# We'll use ADAM instead of SGD (fancy!)\n",
    "train_step = tf.train.AdamOptimizer(1e-4).minimize(cross_entropy)\n",
    "# We can use TF to track the accuracy\n",
    "correct_prediction = tf.equal(tf.argmax(y_conv,1), tf.argmax(y_,1))\n",
    "accuracy = tf.reduce_mean(tf.cast(correct_prediction, \"float\"))\n",
    "# Initialize weights\n",
    "sess.run(tf.initialize_all_variables())\n",
    "# Time to train this thing\n",
    "# Warning, may melt laptop\n",
    "ces, accs = [], []\n",
    "for i in range(1000):\n",
    "    # Use the helper functions to get a batch of\n",
    "    # 50 digits\n",
    "    batch = mnist.train.next_batch(50)\n",
    "    # Every 100 steps\n",
    "    if i%100 == 0:\n",
    "        # Accuracy is measured with dropout off\n",
    "        train_accuracy = sess.run(accuracy, \n",
    "                                  feed_dict={x:batch[0],\n",
    "                                             y_: batch[1],\n",
    "                                             keep_prob: 1.0})\n",
    "        print(\"step %d, training accuracy %g\"%(i, train_accuracy))\n",
    "    # Train it\n",
    "    ce, acc, _ = sess.run((cross_entropy,accuracy,train_step),\n",
    "             feed_dict={x: batch[0],\n",
    "                        y_: batch[1],\n",
    "                        keep_prob: 0.5})\n",
    "    ces.append(ce)\n",
    "    accs.append(acc)"
   ]
  },
  {
   "cell_type": "code",
   "execution_count": null,
   "metadata": {
    "collapsed": false
   },
   "outputs": [],
   "source": [
    "f, axarr = plt.subplots(2, sharex=True)\n",
    "axarr[0].plot(range(1000), ces)\n",
    "axarr[1].plot(range(1000), accs)\n",
    "print(\"test accuracy %g\"%sess.run(accuracy, feed_dict={\n",
    "    x: mnist.test.images, y_: mnist.test.labels, keep_prob: 1.0}))"
   ]
  },
  {
   "cell_type": "code",
   "execution_count": null,
   "metadata": {
    "collapsed": false
   },
   "outputs": [],
   "source": [
    "# Lets have a look at one shall we?\n",
    "idx = 10\n",
    "plt.matshow(np.reshape(mnist.test.images[idx], (28,28)))\n",
    "net_opinion = sess.run(y_conv, feed_dict={\n",
    "    x: mnist.test.images[idx:idx+1], keep_prob: 1.0})\n",
    "print np.round(net_opinion)\n",
    "print np.argmax(net_opinion)"
   ]
  },
  {
   "cell_type": "code",
   "execution_count": null,
   "metadata": {
    "collapsed": false
   },
   "outputs": [],
   "source": [
    "# Can we find a mistake?\n",
    "for idx in range(300, 1000):\n",
    "    net_opinion = sess.run(y_conv, feed_dict={\n",
    "        x: mnist.test.images[idx:idx+1], keep_prob: 1.0})\n",
    "    net_digit = np.argmax(net_opinion)\n",
    "    true_digit = np.argmax(mnist.test.labels[idx])\n",
    "    if net_digit != true_digit:\n",
    "        plt.matshow(np.reshape(mnist.test.images[idx], (28,28)))\n",
    "        print idx\n",
    "        print net_opinion\n",
    "        print net_digit\n",
    "        print true_digit\n",
    "        break"
   ]
  },
  {
   "cell_type": "code",
   "execution_count": null,
   "metadata": {
    "collapsed": false
   },
   "outputs": [],
   "source": [
    "# Lets look at the activations in the first convolutional layer\n",
    "idx = 10\n",
    "plt.matshow(np.reshape(mnist.test.images[idx], (28,28)))\n",
    "value_h_conv1 = sess.run(h_conv1, feed_dict={\n",
    "    x: mnist.test.images[idx:idx+1], keep_prob: 1.0})\n",
    "plt.matshow(value_h_conv1[0,:,:,0])\n",
    "plt.matshow(value_h_conv1[0,:,:,1])"
   ]
  }
 ],
 "metadata": {
  "kernelspec": {
   "display_name": "Python 2",
   "language": "python",
   "name": "python2"
  },
  "language_info": {
   "codemirror_mode": {
    "name": "ipython",
    "version": 2
   },
   "file_extension": ".py",
   "mimetype": "text/x-python",
   "name": "python",
   "nbconvert_exporter": "python",
   "pygments_lexer": "ipython2",
   "version": "2.7.12"
  }
 },
 "nbformat": 4,
 "nbformat_minor": 0
}
