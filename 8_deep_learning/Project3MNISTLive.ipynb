{
 "cells": [
  {
   "cell_type": "markdown",
   "metadata": {},
   "source": [
    "# Deep Learning & Neural Networks\n",
    "## Project 3 - Handwriting Recognition with ConvNets\n",
    "\n",
    "Essentially https://www.tensorflow.org/versions/master/tutorials/mnist/pros/index.html but with inline comments\n",
    "### Setup\n",
    "\n",
    "As usual start by loading all the libraries. These will be the same as the last exercise."
   ]
  },
  {
   "cell_type": "code",
   "execution_count": null,
   "metadata": {
    "collapsed": true
   },
   "outputs": [],
   "source": [
    "# Load TensorFlow\n",
    "import tensorflow as tf\n",
    "# Load numpy - adds MATLAB/Julia-style math to Python\n",
    "import numpy as np\n",
    "# Load matplotlib for plotting\n",
    "%matplotlib inline\n",
    "import matplotlib.pyplot as plt"
   ]
  },
  {
   "cell_type": "markdown",
   "metadata": {},
   "source": [
    "Load MNIST data set. It will download the files into the working directory if they're not already there.\n",
    "\n",
    "The files consist of sets of images and labels for\n",
    "  - training\n",
    "  - validation\n",
    "  - testing"
   ]
  },
  {
   "cell_type": "code",
   "execution_count": null,
   "metadata": {
    "collapsed": false
   },
   "outputs": [],
   "source": [
    "from tensorflow.examples.tutorials.mnist import input_data\n",
    "mnist = input_data.read_data_sets('MNIST_data', one_hot=True)"
   ]
  },
  {
   "cell_type": "markdown",
   "metadata": {},
   "source": [
    "### Helper functions\n",
    "\n",
    "Before we build the graph we will write helper functions.\n",
    "\n",
    "Below we will define a function for creating tensor variables. It takes a shape (list of dimensions) as an argument and intializes the tensor to random truncated Gaussian variables with standard deviation of $0.1$"
   ]
  },
  {
   "cell_type": "code",
   "execution_count": null,
   "metadata": {
    "collapsed": true
   },
   "outputs": [],
   "source": [
    "def weight_variable(shape):\n",
    "    initial = tf.truncated_normal(shape, stddev=0.1)\n",
    "    return tf.Variable(initial)"
   ]
  },
  {
   "cell_type": "markdown",
   "metadata": {},
   "source": [
    "Do the same but for the bias term:"
   ]
  },
  {
   "cell_type": "code",
   "execution_count": null,
   "metadata": {
    "collapsed": true
   },
   "outputs": [],
   "source": [
    "def bias_variable(shape):\n",
    "    initial = tf.constant(0.1, shape=shape)\n",
    "    return tf.Variable(initial)"
   ]
  },
  {
   "cell_type": "markdown",
   "metadata": {},
   "source": [
    "The below function specifies the kind of convolution operation we'll be using throughout. It's one where the stride is 1 pixel to the right and 1 pixel down.\n",
    "\n",
    "In general, 'strides' represents the number of pixels you move right and down at a time (the two middle values in ``[1, 1, 1, 1]``) during the convolution - the first and fourth values are usually just set to 1. See [this link](stackoverflow.com/questions/34619177/what-does-tf-nn-conv2d-do-in-tensorflow) for more details."
   ]
  },
  {
   "cell_type": "code",
   "execution_count": null,
   "metadata": {
    "collapsed": true
   },
   "outputs": [],
   "source": [
    "def conv2d(x, W):\n",
    "    return tf.nn.conv2d(x, W, strides=[1, 1, 1, 1], padding='SAME')"
   ]
  },
  {
   "cell_type": "markdown",
   "metadata": {},
   "source": [
    "Similarly for our pooling, we'll define a helper function. We'll use a simple 2x2 max pooling with no overlaps - so the output will be half the height and width of the input. Also the stride has to be ``[1,2,2,1]`` (why?)"
   ]
  },
  {
   "cell_type": "code",
   "execution_count": null,
   "metadata": {
    "collapsed": true
   },
   "outputs": [],
   "source": [
    "def max_pool_2x2(x):\n",
    "    return tf.nn.max_pool(x, ksize=[1, 2, 2, 1],\n",
    "                            strides=[1, 2, 2, 1], padding='SAME')"
   ]
  },
  {
   "cell_type": "markdown",
   "metadata": {},
   "source": [
    "### Creating the computation graph\n",
    "\n",
    "Let's get the easy part out of the way, we create a session just like in any other TensorFlow-based code"
   ]
  },
  {
   "cell_type": "code",
   "execution_count": null,
   "metadata": {
    "collapsed": true
   },
   "outputs": [],
   "source": [
    "sess = tf.Session()"
   ]
  },
  {
   "cell_type": "markdown",
   "metadata": {},
   "source": [
    "Now we will immediately define the inputs to our graph. These will be the data ``x`` and labels ``y_``. Notice how the data is the image flattened (since this is the format the data is in to begin with). Remember that the first dimension of each tensor being ``None`` signifies that the number of rows can be anything at ``session`` runtime."
   ]
  },
  {
   "cell_type": "code",
   "execution_count": null,
   "metadata": {
    "collapsed": true
   },
   "outputs": [],
   "source": [
    "x  = tf.placeholder(\"float\", shape=[None, 784], name=\"x\")\n",
    "y_ = tf.placeholder(\"float\", shape=[None, 10], name=\"y_\")"
   ]
  },
  {
   "cell_type": "markdown",
   "metadata": {},
   "source": [
    "As we noted, the images are already flattened, which is normally good! However, convolutions actually work on the matrix. Therefore, let's use the ``reshape`` operator to mangle them into matrices."
   ]
  },
  {
   "cell_type": "code",
   "execution_count": null,
   "metadata": {
    "collapsed": true
   },
   "outputs": [],
   "source": [
    "x_image = tf.reshape(x, [-1,28,28,1])"
   ]
  },
  {
   "cell_type": "markdown",
   "metadata": {},
   "source": [
    "That's an unknown number of 28x28 images with 1 channel. Let's now define the weight and bias Tensor variables. The bias variable is 32-dimensional because it is simply an offset for each of the 32 filters (activation maps)."
   ]
  },
  {
   "cell_type": "code",
   "execution_count": null,
   "metadata": {
    "collapsed": false
   },
   "outputs": [],
   "source": [
    "W_conv1 = weight_variable([5, 5, 1, 32])\n",
    "b_conv1 = bias_variable([32])"
   ]
  },
  {
   "cell_type": "markdown",
   "metadata": {},
   "source": [
    "Now we can define the first convolution layer. This is a convolution using 32 5x5 filters."
   ]
  },
  {
   "cell_type": "code",
   "execution_count": null,
   "metadata": {
    "collapsed": true
   },
   "outputs": [],
   "source": [
    "h_conv1 = tf.nn.relu(conv2d(x_image, W_conv1) + b_conv1)"
   ]
  },
  {
   "cell_type": "markdown",
   "metadata": {},
   "source": [
    "**Question** What is the dimension of ``h_conv1``?\n",
    "\n",
    "Next we will add a max-pool layer to our network,"
   ]
  },
  {
   "cell_type": "code",
   "execution_count": null,
   "metadata": {
    "collapsed": true
   },
   "outputs": [],
   "source": [
    "h_pool1 = max_pool_2x2(h_conv1)"
   ]
  },
  {
   "cell_type": "markdown",
   "metadata": {},
   "source": [
    "We do pretty much the same thing (convolution + maxpool), adding another 2 layers, but with 64 5x5 filters for the convolution piece:"
   ]
  },
  {
   "cell_type": "code",
   "execution_count": null,
   "metadata": {
    "collapsed": true
   },
   "outputs": [],
   "source": [
    "W_conv2 = weight_variable([5, 5, 32, 64])\n",
    "b_conv2 = bias_variable([64])\n",
    "h_conv2 = tf.nn.relu(conv2d(h_pool1, W_conv2) + b_conv2)\n",
    "h_pool2 = max_pool_2x2(h_conv2)"
   ]
  },
  {
   "cell_type": "markdown",
   "metadata": {},
   "source": [
    "Now we'll implement 2 fully connected layers with a softmax layer after the second and *dropout* between the two.\n",
    "\n",
    "We first need to mangle the $64$ $7 \\times 7$ images into one $7^2 \\times 64$ dimensional vector. Then we add a fully connected layer with ReLU to the result:"
   ]
  },
  {
   "cell_type": "code",
   "execution_count": null,
   "metadata": {
    "collapsed": true
   },
   "outputs": [],
   "source": [
    "W_fc1 = weight_variable([7 * 7 * 64, 1024])\n",
    "b_fc1 = bias_variable([1024])\n",
    "h_pool2_flat = tf.reshape(h_pool2, [-1, 7*7*64])\n",
    "h_fc1 = tf.nn.relu(tf.matmul(h_pool2_flat, W_fc1) + b_fc1)"
   ]
  },
  {
   "cell_type": "markdown",
   "metadata": {},
   "source": [
    "The next thing we'll do is add a layer that randomly drop certain units from ``h_fc1`` during training. See the slides for details about the dropout technique.\n",
    "\n",
    "Note that we leave the dropout probability as an input to be set at runtime."
   ]
  },
  {
   "cell_type": "code",
   "execution_count": null,
   "metadata": {
    "collapsed": true
   },
   "outputs": [],
   "source": [
    "keep_prob = tf.placeholder(tf.float32, name=\"wtf\")\n",
    "h_fc1_drop = tf.nn.dropout(h_fc1, keep_prob)"
   ]
  },
  {
   "cell_type": "markdown",
   "metadata": {},
   "source": [
    "We're almost done! Just need to add a fully connected layer from ``h_fc1_drop``, that is the remaining neurons after dropout is done. The output of this last layer is vector of length 10. We \"softmax\" this vector at the end to get a probability distribution over the 10 digits."
   ]
  },
  {
   "cell_type": "code",
   "execution_count": null,
   "metadata": {
    "collapsed": true
   },
   "outputs": [],
   "source": [
    "W_fc2  = weight_variable([1024, 10])\n",
    "b_fc2  = bias_variable([10])\n",
    "y_conv = tf.nn.softmax(tf.matmul(h_fc1_drop, W_fc2) + b_fc2)"
   ]
  },
  {
   "cell_type": "markdown",
   "metadata": {},
   "source": [
    "This wasn't so scary apart from maybe the convolution parts!\n",
    "\n",
    "### Training the net\n",
    "\n",
    "Like in Project 1A we use cross-entropy as the loss. The only other difference from previous setups is that we will use the [Adam optimizer](https://arxiv.org/abs/1412.6980) (fancy!) instead of usual Gradient Descent."
   ]
  },
  {
   "cell_type": "code",
   "execution_count": null,
   "metadata": {
    "collapsed": false
   },
   "outputs": [],
   "source": [
    "# Time for the training!\n",
    "# We'll use a \"cross entropy\" loss function instead\n",
    "# of square loss\n",
    "cross_entropy = -tf.reduce_sum(y_*tf.log(y_conv))\n",
    "# We'll use ADAM instead of SGD (fancy!)\n",
    "train_step = tf.train.AdamOptimizer(1e-4).minimize(cross_entropy)\n",
    "# We can use TF to track the accuracy\n",
    "correct_prediction = tf.equal(tf.argmax(y_conv,1), tf.argmax(y_,1))\n",
    "accuracy = tf.reduce_mean(tf.cast(correct_prediction, \"float\"))\n",
    "# Initialize weights\n",
    "sess.run(tf.initialize_all_variables())\n",
    "# Time to train this thing\n",
    "# Warning, may melt laptop\n",
    "ces, accs = [], []\n",
    "for i in range(1000):\n",
    "    # Use the helper functions to get a batch of\n",
    "    # 50 digits\n",
    "    batch = mnist.train.next_batch(50)\n",
    "    # Every 100 steps\n",
    "    if i%100 == 0:\n",
    "        # Accuracy is measured with dropout off\n",
    "        train_accuracy = sess.run(accuracy, \n",
    "                                  feed_dict={x:batch[0],\n",
    "                                             y_: batch[1],\n",
    "                                             keep_prob: 1.0})\n",
    "        print(\"step %d, training accuracy %g\"%(i, train_accuracy))\n",
    "    # Train it\n",
    "    ce, acc, _ = sess.run((cross_entropy,accuracy,train_step),\n",
    "             feed_dict={x: batch[0],\n",
    "                        y_: batch[1],\n",
    "                        keep_prob: 0.5})\n",
    "    ces.append(ce)\n",
    "    accs.append(acc)"
   ]
  },
  {
   "cell_type": "markdown",
   "metadata": {},
   "source": [
    "We plot the training error and cross-entropy over the training that just happened"
   ]
  },
  {
   "cell_type": "code",
   "execution_count": null,
   "metadata": {
    "collapsed": false
   },
   "outputs": [],
   "source": [
    "f, axarr = plt.subplots(2, sharex=True)\n",
    "axarr[0].plot(range(1000), ces)\n",
    "axarr[1].plot(range(1000), accs)\n",
    "print(\"test accuracy %g\"%sess.run(accuracy, feed_dict={\n",
    "    x: mnist.test.images, y_: mnist.test.labels, keep_prob: 1.0}))"
   ]
  },
  {
   "cell_type": "markdown",
   "metadata": {},
   "source": [
    "### Examining the convolutional network\n",
    "\n",
    "Lets have a look at one shall we?"
   ]
  },
  {
   "cell_type": "code",
   "execution_count": null,
   "metadata": {
    "collapsed": false
   },
   "outputs": [],
   "source": [
    "idx = 10\n",
    "plt.matshow(np.reshape(mnist.test.images[idx], (28,28)))\n",
    "net_opinion = sess.run(y_conv, feed_dict={\n",
    "    x: mnist.test.images[idx:idx+1], keep_prob: 1.0})\n",
    "print np.round(net_opinion)\n",
    "print np.argmax(net_opinion)"
   ]
  },
  {
   "cell_type": "markdown",
   "metadata": {},
   "source": [
    "Looking for mistakes in the network is simple. We can see why the mistaken image was tricky to classify for the computer"
   ]
  },
  {
   "cell_type": "code",
   "execution_count": null,
   "metadata": {
    "collapsed": false
   },
   "outputs": [],
   "source": [
    "for idx in range(300, 1000):\n",
    "    net_opinion = sess.run(y_conv, feed_dict={\n",
    "        x: mnist.test.images[idx:idx+1], keep_prob: 1.0})\n",
    "    net_digit = np.argmax(net_opinion)\n",
    "    true_digit = np.argmax(mnist.test.labels[idx])\n",
    "    if net_digit != true_digit:\n",
    "        plt.matshow(np.reshape(mnist.test.images[idx], (28,28)))\n",
    "        print idx\n",
    "        print net_opinion\n",
    "        print net_digit\n",
    "        print true_digit\n",
    "        break"
   ]
  },
  {
   "cell_type": "markdown",
   "metadata": {},
   "source": [
    "Lets look at the activations in the first convolutional layer"
   ]
  },
  {
   "cell_type": "code",
   "execution_count": null,
   "metadata": {
    "collapsed": false
   },
   "outputs": [],
   "source": [
    "idx = 10\n",
    "plt.matshow(np.reshape(mnist.test.images[idx], (28,28)))\n",
    "value_h_conv1 = sess.run(h_conv1, feed_dict={\n",
    "    x: mnist.test.images[idx:idx+1], keep_prob: 1.0})\n",
    "plt.matshow(value_h_conv1[0,:,:,0])\n",
    "plt.matshow(value_h_conv1[0,:,:,1])"
   ]
  }
 ],
 "metadata": {
  "kernelspec": {
   "display_name": "Python 2",
   "language": "python",
   "name": "python2"
  },
  "language_info": {
   "codemirror_mode": {
    "name": "ipython",
    "version": 2
   },
   "file_extension": ".py",
   "mimetype": "text/x-python",
   "name": "python",
   "nbconvert_exporter": "python",
   "pygments_lexer": "ipython2",
   "version": "2.7.12"
  }
 },
 "nbformat": 4,
 "nbformat_minor": 0
}
