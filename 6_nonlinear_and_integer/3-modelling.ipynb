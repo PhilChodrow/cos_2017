{
 "cells": [
  {
   "cell_type": "markdown",
   "metadata": {},
   "source": [
    "## Reformulations in Mixed-Integer Linear Optimization\n",
    "So far, we've been looking at _mixed-Integer linear optimization_, which is linear optimization with a new primitive: integrality conditions on some of the variables.\n",
    "\n",
    "$$\n",
    "\\begin{align*}\n",
    "    \\min_{x}\\quad& c^Tx \\\\\n",
    "    \\text{s.t.}\\quad& Ax \\leq b \\\\\n",
    "    & x \\in \\mathbb{R}^{m} \\times \\mathbb{Z}^n\n",
    "\\end{align*}\n",
    "$$\n",
    "\n",
    "But in practice, there might be **nonlinearities** in the problem we are trying to model. In our earlier session on callback functions, we've seen one way to handle them for convex functions through a polyhedral outer approximation. In this session, we look at techniques for handling other forms of nonlinearities."
   ]
  },
  {
   "cell_type": "markdown",
   "metadata": {},
   "source": [
    "## Logical Constraints (Boolean logic)\n",
    "\n",
    "There is a natural mapping to Boolean logics `TRUE` and `FALSE` to the binary variables `1` and `0`.  It is also quite common to want to express logical constraints and implications, e.g. \"if this factory is built, we can build no other factories in this year\", or \"either factory A or factory B can be built, but not both\". The \"trick\" is expressing these logical constraints and implications as **linear inequalities**, and sometimes we need to introduce **auxiliary variables**.\n",
    "\n",
    "We'll start with modeling simple logical statements - `AND` & `OR`.\n",
    "\n",
    "### AND\n",
    "\n",
    "\"`z` is TRUE if and only if `x` and `y` are both TRUE\" (``z = x AND y``)\n",
    "\n",
    "* `0 AND 0 = 0`\n",
    "* `1 AND 0 = 0`\n",
    "* `0 AND 1 = 0`\n",
    "* `1 AND 1 = 1`\n",
    "\n",
    "We can write this as\n",
    "$$z \\geq x + y - 1  ,\\quad  z \\leq x  ,\\quad  z \\leq y,\\quad 0 \\leq z \\leq 1$$\n",
    "which we can check by putting the values in (blackboard).\n",
    "\n",
    "### OR\n",
    "\n",
    "\"`z` is TRUE if and only if either `x` or `y` or both are TRUE\" (``z = x OR y``)\n",
    "\n",
    "* `0 OR 0 = 0`\n",
    "* `1 OR 0 = 1`\n",
    "* `0 OR 1 = 1`\n",
    "* `1 OR 1 = 1`\n",
    "\n",
    "This can also be expressed by linear inequalities, with no auxiliaries required:\n",
    "$$z \\geq x  ,\\quad  z \\geq y  ,\\quad  z \\leq x + y,\\quad 0 \\leq z \\leq 1$$\n",
    "\n",
    "\n",
    "### XOR\n",
    "\n",
    "This one is a bit trickier: \"`z` is TRUE if and only if either `x` or `y` is TRUE, but not both\" (``z = x XOR y``)\n",
    "\n",
    "* `0 XOR 0 = 0`\n",
    "* `1 XOR 0 = 1`\n",
    "* `0 XOR 1 = 1`\n",
    "* `1 XOR 1 = 0`\n",
    "\n",
    "One way to do it is `z = x XOR y = (x OR y) - (x AND y)`, but then would need two auxiliary variables, e.g. `z1 = x OR y`, `z2 = x AND y`, and then finally `z = z1 - z2`. Now its your turn:"
   ]
  },
  {
   "cell_type": "markdown",
   "metadata": {},
   "source": [
    "> **[Exercise]**: Logical Constraints\n",
    "\n",
    "> Express `z = x XOR y` with using ONE auxiliary variable. Can you do it with NO auxiliary variables?"
   ]
  },
  {
   "cell_type": "markdown",
   "metadata": {},
   "source": [
    "**Remark**: For more, this [quick reference guide (pdf)](http://brblog.typepad.com/files/mipformref-1.pdf) presents a collection of MIP model formulations, including standard linearization techniques involving binary variables, the use of more specific modeling objects such as SOS and partial integer variables, and reformulations of logic constraints through indicator constraints."
   ]
  },
  {
   "cell_type": "markdown",
   "metadata": {},
   "source": [
    "## Piecewise constant functions\n",
    "\n",
    "> Lots more to learn about this in [Juan Pablo's review](http://www.mit.edu/~jvielma/publications/index.html#Mixed-Integer-Linear-Programming-Formulation-Techniques) of formulation techniques!\n",
    "\n",
    "In this section we are going to try to model the following type of relationship:\n",
    "\n",
    "$$\n",
    "z(x) = \\begin{cases}\n",
    "a_{1} & \\quad r_{1}\\leq x\\leq r_{2}\\\\\n",
    "a_{2} & \\quad r_{2}\\leq x\\leq r_{3}\\\\\n",
    "\\vdots\\\\\n",
    "a_{n-1} & \\quad r_{n-1}\\leq x\\leq r_{n}\n",
    "\\end{cases}\n",
    "$$\n",
    "\n",
    "where $z$ is a piecewise constant function of the variable $x$."
   ]
  },
  {
   "cell_type": "markdown",
   "metadata": {},
   "source": [
    "1) To do so, we first create auxiliary binary variables $y_1,\\dots,y_n$, for which we wish to express the following relationship:\n",
    "\n",
    "$$ x \\geq r_i \\Longrightarrow y_i = 1 $$\n",
    "\n",
    "> which we accomplish with the following linear inequalities\n",
    "\n",
    "> \\begin{alignat*}{2}\n",
    "    y_i &\\geq   &(x - r_{i})/M \\\\\n",
    "    y_i &\\leq 1-&(x - r_{i})/M\n",
    "\\end{alignat*}\n",
    "\n",
    "2) We then define\n",
    "\n",
    "$$ \\delta_i = a_i - a_{i-1} $$\n",
    "\n",
    "where $a_{0}=0$.\n",
    "\n",
    "3) Finally, we express $z$ in the following way:\n",
    "\n",
    "$$ z = \\sum_{i=1}^{n-1} \\delta_i y_i $$"
   ]
  },
  {
   "cell_type": "markdown",
   "metadata": {},
   "source": [
    "## Unions of polyhedra\n",
    "\n",
    "The piecewise linear modeling above can be seen as a special case of a more general modeling paradigm:\n",
    "\n",
    "$$\n",
    "\\begin{align*}\n",
    "\\min_{x}\\quad& c^Tx \\\\\n",
    "\\text{s.t.}\\quad& x \\in \\bigcup_{i=1}^m P_i\n",
    "\\end{align*}\n",
    "$$\n",
    "\n",
    "where $P_i = \\{x : A^i x \\leq b^i\\}$ are polyhedra. We'll assume for today that $P_1,\\dots,P_m$ are bounded (i.e. polytopes); for a more general treatment, take 15.083J.\n",
    "\n",
    "> **[Exercise]**: Unions of polyhedra\n",
    "\n",
    "> How do we formulate this?"
   ]
  },
  {
   "cell_type": "markdown",
   "metadata": {},
   "source": [
    "## Discussion\n",
    "When else might you expect to apply similar techniques? Some examples:\n",
    "\n",
    "- [Stochastic Network Interdiction (pdf)](http://homepages.cae.wisc.edu/~linderot/papers/Janjarassuk-Linderoth-06-TR.pdf) -- discussion of linearization on page 5, and resulting formulation on page 6\n",
    "- [Optimal Classification Trees (pdf)](http://jack.dunn.nz/papers/OptimalClassificationTrees.pdf) -- discussion of linearization from pages 10-12, and resulting formulation on page 12"
   ]
  },
  {
   "cell_type": "markdown",
   "metadata": {},
   "source": [
    "## Discussion\n",
    "Is mixed integer linear optimization \"special\"? No. The solvers might be less mature, but if you're interested in the class of conic and semi-definite optimization problems, there are more techniques that will be available to you. We refer the interested reader to the [MOSEK modeling manual](http://docs.mosek.com/generic/modeling-letter.pdf) for some pointers."
   ]
  }
 ],
 "metadata": {
  "anaconda-cloud": {},
  "kernelspec": {
   "display_name": "Julia 0.5.0",
   "language": "julia",
   "name": "julia-0.5"
  },
  "language_info": {
   "file_extension": ".jl",
   "mimetype": "application/julia",
   "name": "julia",
   "version": "0.5.0"
  }
 },
 "nbformat": 4,
 "nbformat_minor": 0
}
